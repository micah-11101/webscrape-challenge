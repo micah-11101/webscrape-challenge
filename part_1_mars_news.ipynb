{
 "cells": [
  {
   "attachments": {},
   "cell_type": "markdown",
   "metadata": {},
   "source": [
    "# Module 11 Challenge\n",
    "## Deliverable 1: Scrape Titles and Preview Text from Mars News"
   ]
  },
  {
   "cell_type": "code",
   "execution_count": 14,
   "metadata": {},
   "outputs": [],
   "source": [
    "# Import Splinter and BeautifulSoup\n",
    "from splinter import Browser\n",
    "from bs4 import BeautifulSoup"
   ]
  },
  {
   "cell_type": "code",
   "execution_count": 15,
   "metadata": {
    "scrolled": true
   },
   "outputs": [],
   "source": [
    "browser = Browser('chrome')"
   ]
  },
  {
   "attachments": {},
   "cell_type": "markdown",
   "metadata": {},
   "source": [
    "### Step 1: Visit the Website\n",
    "\n",
    "1. Use automated browsing to visit the [Mars news site](https://static.bc-edx.com/data/web/mars_news/index.html). Inspect the page to identify which elements to scrape.\n",
    "\n",
    "      > **Hint** To identify which elements to scrape, you might want to inspect the page by using Chrome DevTools."
   ]
  },
  {
   "cell_type": "code",
   "execution_count": 16,
   "metadata": {},
   "outputs": [],
   "source": [
    "# Visit the Mars news site\n",
    "url = 'https://static.bc-edx.com/data/web/mars_news/index.html'\n",
    "browser.visit(url)"
   ]
  },
  {
   "attachments": {},
   "cell_type": "markdown",
   "metadata": {},
   "source": [
    "### Step 2: Scrape the Website\n",
    "\n",
    "Create a Beautiful Soup object and use it to extract text elements from the website."
   ]
  },
  {
   "cell_type": "code",
   "execution_count": 17,
   "metadata": {},
   "outputs": [],
   "source": [
    "# Create a Beautiful Soup object\n",
    "html = browser.html\n",
    "\n",
    "soup = BeautifulSoup(html, 'html.parser')"
   ]
  },
  {
   "cell_type": "code",
   "execution_count": 18,
   "metadata": {},
   "outputs": [],
   "source": [
    "# Extract all the text elements\n",
    "text_elements = soup.find_all('div', class_='list_text')\n"
   ]
  },
  {
   "attachments": {},
   "cell_type": "markdown",
   "metadata": {},
   "source": [
    "### Step 3: Store the Results\n",
    "\n",
    "Extract the titles and preview text of the news articles that you scraped. Store the scraping results in Python data structures as follows:\n",
    "\n",
    "* Store each title-and-preview pair in a Python dictionary. And, give each dictionary two keys: `title` and `preview`. An example is the following:\n",
    "\n",
    "  ```python\n",
    "  {'title': \"NASA's MAVEN Observes Martian Light Show Caused by Major Solar Storm\", \n",
    "   'preview': \"For the first time in its eight years orbiting Mars, NASA’s MAVEN mission witnessed two different types of ultraviolet aurorae simultaneously, the result of solar storms that began on Aug. 27.\"\n",
    "  }\n",
    "  ```\n",
    "\n",
    "* Store all the dictionaries in a Python list.\n",
    "\n",
    "* Print the list in your notebook."
   ]
  },
  {
   "cell_type": "code",
   "execution_count": 22,
   "metadata": {},
   "outputs": [],
   "source": [
    "# Create an empty list to store the dictionaries\n",
    "article_dict = []"
   ]
  },
  {
   "cell_type": "code",
   "execution_count": 23,
   "metadata": {},
   "outputs": [],
   "source": [
    "# Loop through the text elements\n",
    "# Extract the title and preview text from the elements\n",
    "# Store each title and preview pair in a dictionary\n",
    "# Add the dictionary to the list\n",
    "\n",
    "for i in text_elements:\n",
    "    #article titles\n",
    "    title = i.find(class_=\"content_title\").text\n",
    "    #article teasers\n",
    "    teaser = i.find(class_=\"article_teaser_body\").text\n",
    "    #create variable for dictionary\n",
    "    dict_entry = {\"Title: \": title, \"Article Teaser: \": teaser}\n",
    "    article_dict.append(dict_entry)\n"
   ]
  },
  {
   "cell_type": "code",
   "execution_count": 24,
   "metadata": {},
   "outputs": [
    {
     "name": "stdout",
     "output_type": "stream",
     "text": [
      "[{'Title: ': \"NASA's MAVEN Observes Martian Light Show Caused by Major Solar Storm\", 'Article Teaser: ': 'For the first time in its eight years orbiting Mars, NASA’s MAVEN mission witnessed two different types of ultraviolet aurorae simultaneously, the result of solar storms that began on Aug. 27.'}, {'Title: ': \"NASA Prepares to Say 'Farewell' to InSight Spacecraft\", 'Article Teaser: ': 'A closer look at what goes into wrapping up the mission as the spacecraft’s power supply continues to dwindle.'}, {'Title: ': 'NASA and ESA Agree on Next Steps to Return Mars Samples to Earth', 'Article Teaser: ': 'The agency’s Perseverance rover will establish the first sample depot on Mars.'}, {'Title: ': \"NASA's InSight Lander Detects Stunning Meteoroid Impact on Mars\", 'Article Teaser: ': 'The agency’s lander felt the ground shake during the impact while cameras aboard the Mars Reconnaissance Orbiter spotted the yawning new crater from space.'}, {'Title: ': 'NASA To Host Briefing on InSight, Mars Reconnaissance Orbiter Findings', 'Article Teaser: ': 'Scientists from two Mars missions will discuss how they combined images and data for a major finding on the Red Planet.'}, {'Title: ': 'Why NASA Is Trying To Crash Land on Mars', 'Article Teaser: ': 'Like a car’s crumple zone, the experimental SHIELD lander is designed to absorb a hard impact.'}, {'Title: ': 'Curiosity Mars Rover Reaches Long-Awaited Salty Region', 'Article Teaser: ': 'After years of climbing, the Mars rover has arrived at a special region believed to have formed as Mars’ climate was drying.'}, {'Title: ': 'Mars Mission Shields Up for Tests', 'Article Teaser: ': 'Protecting Mars Sample Return spacecraft from micrometeorites requires high-caliber work.'}, {'Title: ': \"NASA's InSight Waits Out Dust Storm\", 'Article Teaser: ': 'InSight’s team is taking steps to help the solar-powered lander continue operating for as long as possible.'}, {'Title: ': \"NASA's InSight 'Hears' Its First Meteoroid Impacts on Mars\", 'Article Teaser: ': 'The Mars lander’s seismometer has picked up vibrations from four separate impacts in the past two years.'}, {'Title: ': \"NASA's Perseverance Rover Investigates Geologically Rich Mars Terrain\", 'Article Teaser: ': 'The latest findings provide greater detail on a region of the Red Planet that has a watery past and is yielding promising samples for the NASA-ESA Mars Sample Return campaign.'}, {'Title: ': 'NASA to Host Briefing on Perseverance Mars Rover Mission Operations', 'Article Teaser: ': 'Members of the mission will discuss the rover’s activities as it gathers samples in an ancient river delta.'}, {'Title: ': \"NASA's Perseverance Makes New Discoveries in Mars' Jezero Crater\", 'Article Teaser: ': 'The rover found that Jezero Crater’s floor is made up of volcanic rocks that have interacted with water.'}, {'Title: ': \"10 Years Since Landing, NASA's Curiosity Mars Rover Still Has Drive\", 'Article Teaser: ': 'Despite signs of wear, the intrepid spacecraft is about to start an exciting new chapter of its mission as it climbs a Martian mountain.'}, {'Title: ': \"SAM's Top 5 Discoveries Aboard NASA's Curiosity Rover at Mars\", 'Article Teaser: ': '“Selfie” of the Curiosity rover with inset showing the SAM instrument prior to installation on the rover.'}]\n"
     ]
    }
   ],
   "source": [
    "# Print the list to confirm success\n",
    "print(article_dict)"
   ]
  },
  {
   "cell_type": "code",
   "execution_count": 25,
   "metadata": {},
   "outputs": [],
   "source": [
    "browser.quit()"
   ]
  },
  {
   "cell_type": "code",
   "execution_count": null,
   "metadata": {},
   "outputs": [],
   "source": []
  }
 ],
 "metadata": {
  "kernelspec": {
   "display_name": "Python 3 (ipykernel)",
   "language": "python",
   "name": "python3"
  },
  "language_info": {
   "codemirror_mode": {
    "name": "ipython",
    "version": 3
   },
   "file_extension": ".py",
   "mimetype": "text/x-python",
   "name": "python",
   "nbconvert_exporter": "python",
   "pygments_lexer": "ipython3",
   "version": "3.10.14"
  },
  "vscode": {
   "interpreter": {
    "hash": "31f2aee4e71d21fbe5cf8b01ff0e069b9275f58929596ceb00d14d90e3e16cd6"
   }
  }
 },
 "nbformat": 4,
 "nbformat_minor": 4
}
